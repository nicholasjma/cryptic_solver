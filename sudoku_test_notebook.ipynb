{
 "cells": [
  {
   "cell_type": "code",
   "execution_count": 1,
   "metadata": {
    "ExecuteTime": {
     "end_time": "2020-11-08T17:35:34.433961Z",
     "start_time": "2020-11-08T17:35:33.071960Z"
    }
   },
   "outputs": [],
   "source": [
    "%load_ext autoreload\n",
    "%autoreload 2\n",
    "%aimport numpy\n",
    "import numpy as np\n",
    "from cryptic_solver import (\n",
    "    StandardSolver,\n",
    "    CrypticSolver,\n",
    "    SandwichSolver,\n",
    "    ThermometerSolver,\n",
    ")"
   ]
  },
  {
   "cell_type": "code",
   "execution_count": 2,
   "metadata": {
    "ExecuteTime": {
     "end_time": "2020-11-08T17:35:35.456961Z",
     "start_time": "2020-11-08T17:35:35.121962Z"
    }
   },
   "outputs": [
    {
     "name": "stdout",
     "output_type": "stream",
     "text": [
      "[[7 5 2 8 3 1 4 6 9]\n",
      " [9 3 8 4 2 6 7 5 1]\n",
      " [6 4 1 5 7 9 3 2 8]\n",
      " [8 9 5 2 6 7 1 4 3]\n",
      " [1 2 6 3 9 4 5 8 7]\n",
      " [3 7 4 1 8 5 2 9 6]\n",
      " [2 8 9 7 5 3 6 1 4]\n",
      " [4 6 3 9 1 2 8 7 5]\n",
      " [5 1 7 6 4 8 9 3 2]]\n",
      "Wall time: 267 ms\n"
     ]
    }
   ],
   "source": [
    "%%time\n",
    "ss = StandardSolver(\n",
    "    np.array(\n",
    "        [\n",
    "            [7, 5, 2, 0, 0, 1, 4, 0, 0],\n",
    "            [0, 3, 0, 0, 0, 6, 0, 0, 1],\n",
    "            [6, 4, 0, 0, 7, 0, 3, 2, 0],\n",
    "            [8, 0, 5, 2, 6, 0, 0, 0, 0],\n",
    "            [0, 0, 0, 3, 0, 4, 0, 0, 0],\n",
    "            [0, 0, 0, 0, 8, 5, 2, 0, 6],\n",
    "            [0, 8, 9, 0, 5, 0, 0, 1, 4],\n",
    "            [4, 0, 0, 9, 0, 0, 0, 7, 0],\n",
    "            [0, 0, 7, 6, 0, 0, 9, 3, 2],\n",
    "        ]\n",
    "    )\n",
    ")\n",
    "ss.solve()"
   ]
  },
  {
   "cell_type": "code",
   "execution_count": 3,
   "metadata": {
    "ExecuteTime": {
     "end_time": "2020-11-08T17:35:38.138462Z",
     "start_time": "2020-11-08T17:35:36.786461Z"
    }
   },
   "outputs": [
    {
     "name": "stdout",
     "output_type": "stream",
     "text": [
      "[[4 8 3 7 2 6 1 5 9]\n",
      " [7 2 6 1 5 9 4 8 3]\n",
      " [1 5 9 4 8 3 7 2 6]\n",
      " [8 3 7 2 6 1 5 9 4]\n",
      " [2 6 1 5 9 4 8 3 7]\n",
      " [5 9 4 8 3 7 2 6 1]\n",
      " [3 7 2 6 1 5 9 4 8]\n",
      " [6 1 5 9 4 8 3 7 2]\n",
      " [9 4 8 3 7 2 6 1 5]]\n",
      "Wall time: 1.29 s\n"
     ]
    }
   ],
   "source": [
    "%%time\n",
    "cs = CrypticSolver(\n",
    "    np.array(\n",
    "        [\n",
    "            [0, 0, 0, 0, 0, 0, 0, 0, 0],\n",
    "            [0, 0, 0, 0, 0, 0, 0, 0, 0],\n",
    "            [0, 0, 0, 0, 0, 0, 0, 0, 0],\n",
    "            [0, 0, 0, 0, 0, 0, 0, 0, 0],\n",
    "            [0, 0, 1, 0, 0, 0, 0, 0, 0],\n",
    "            [0, 0, 0, 0, 0, 0, 2, 0, 0],\n",
    "            [0, 0, 0, 0, 0, 0, 0, 0, 0],\n",
    "            [0, 0, 0, 0, 0, 0, 0, 0, 0],\n",
    "            [0, 0, 0, 0, 0, 0, 0, 0, 0],\n",
    "        ]\n",
    "    )\n",
    ")\n",
    "cs.solve()"
   ]
  },
  {
   "cell_type": "code",
   "execution_count": 4,
   "metadata": {
    "ExecuteTime": {
     "end_time": "2020-11-08T17:36:54.367463Z",
     "start_time": "2020-11-08T17:35:40.552960Z"
    },
    "scrolled": true
   },
   "outputs": [
    {
     "name": "stdout",
     "output_type": "stream",
     "text": [
      "[[6 1 2 9 3 8 4 7 5]\n",
      " [7 8 3 4 5 1 2 6 9]\n",
      " [4 5 9 2 6 7 8 3 1]\n",
      " [1 3 8 6 7 5 9 4 2]\n",
      " [2 7 4 3 1 9 5 8 6]\n",
      " [5 9 6 8 4 2 3 1 7]\n",
      " [3 4 5 1 2 6 7 9 8]\n",
      " [9 2 1 7 8 3 6 5 4]\n",
      " [8 6 7 5 9 4 1 2 3]]\n",
      "Wall time: 1min 13s\n"
     ]
    }
   ],
   "source": [
    "%%time\n",
    "sws = SandwichSolver(\n",
    "    np.array(\n",
    "        [\n",
    "            [0, 0, 0, 0, 0, 0, 0, 0, 0],\n",
    "            [0, 0, 0, 0, 0, 0, 0, 0, 0],\n",
    "            [0, 0, 9, 0, 0, 0, 0, 0, 0],\n",
    "            [0, 0, 0, 6, 0, 0, 0, 0, 0],\n",
    "            [0, 0, 0, 0, 1, 0, 0, 0, 0],\n",
    "            [0, 0, 0, 0, 0, 2, 0, 0, 0],\n",
    "            [0, 0, 0, 0, 0, 0, 7, 0, 0],\n",
    "            [0, 0, 0, 0, 0, 0, 0, 0, 0],\n",
    "            [0, 0, 0, 0, 0, 0, 0, 0, 0],\n",
    "        ]\n",
    "    ),\n",
    "    row_sums=np.array([2, 8, 26, 29, 0, 23, 15, 2, 4]),\n",
    "    col_sums=np.array([10, 23, 23, 23, 14, 12, 21, 0, 0]),\n",
    ")\n",
    "sws.solve()"
   ]
  },
  {
   "cell_type": "code",
   "execution_count": 5,
   "metadata": {
    "ExecuteTime": {
     "end_time": "2020-11-08T17:37:46.415459Z",
     "start_time": "2020-11-08T17:36:59.408962Z"
    },
    "code_folding": [],
    "scrolled": true
   },
   "outputs": [
    {
     "name": "stdout",
     "output_type": "stream",
     "text": [
      "[[1 2 3 8 6 9 5 7 4]\n",
      " [8 4 9 5 7 1 3 6 2]\n",
      " [6 5 7 2 3 4 8 9 1]\n",
      " [9 8 4 6 2 5 7 1 3]\n",
      " [2 3 6 1 9 7 4 5 8]\n",
      " [5 7 1 3 4 8 6 2 9]\n",
      " [3 1 2 4 5 6 9 8 7]\n",
      " [4 9 5 7 8 2 1 3 6]\n",
      " [7 6 8 9 1 3 2 4 5]]\n",
      "Wall time: 46.9 s\n"
     ]
    }
   ],
   "source": [
    "%%time\n",
    "ts = ThermometerSolver(\n",
    "    np.array(\n",
    "        [\n",
    "            [0, 0, 0, 0, 0, 0, 5, 0, 4],\n",
    "            [0, 0, 0, 0, 0, 0, 0, 6, 0],\n",
    "            [0, 0, 0, 0, 0, 0, 0, 0, 0],\n",
    "            [0, 0, 0, 0, 2, 0, 0, 0, 0],\n",
    "            [0, 0, 0, 0, 0, 0, 0, 0, 0],\n",
    "            [0, 0, 1, 0, 0, 0, 0, 0, 0],\n",
    "            [0, 0, 0, 0, 0, 0, 0, 0, 0],\n",
    "            [0, 9, 0, 0, 0, 0, 0, 3, 0],\n",
    "            [7, 0, 8, 0, 0, 0, 0, 0, 0],\n",
    "        ]\n",
    "    ),\n",
    "    paths=[\n",
    "        [(0, 0), (0, 1), (1, 1), (2, 1), (3, 1)],\n",
    "        [(2, 3), (2, 4), (2, 5), (3, 5), (4, 5), (4, 4)],\n",
    "        [(4, 0), (4, 1), (4, 2)],\n",
    "        [(4, 3), (5, 3), (6, 3), (6, 4), (6, 5)],\n",
    "        [(8, 6), (8, 7), (8, 8), (7, 8), (6, 8), (6, 7), (6, 6)],\n",
    "        [(4, 6), (4, 7), (4, 8), (5, 8)],\n",
    "    ],\n",
    ")\n",
    "ts.solve()"
   ]
  }
 ],
 "metadata": {
  "kernelspec": {
   "display_name": "Python 3",
   "language": "python",
   "name": "python3"
  },
  "language_info": {
   "codemirror_mode": {
    "name": "ipython",
    "version": 3
   },
   "file_extension": ".py",
   "mimetype": "text/x-python",
   "name": "python",
   "nbconvert_exporter": "python",
   "pygments_lexer": "ipython3",
   "version": "3.7.3"
  }
 },
 "nbformat": 4,
 "nbformat_minor": 2
}
