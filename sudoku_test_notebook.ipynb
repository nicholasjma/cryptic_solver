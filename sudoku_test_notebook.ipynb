{
 "cells": [
  {
   "cell_type": "code",
   "execution_count": 1,
   "metadata": {
    "ExecuteTime": {
     "end_time": "2020-11-14T13:56:19.581479Z",
     "start_time": "2020-11-14T13:56:13.675418Z"
    }
   },
   "outputs": [],
   "source": [
    "# reload cryptic_solver on each execution\n",
    "%load_ext autoreload\n",
    "%autoreload 2\n",
    "%aimport numpy\n",
    "import numpy as np\n",
    "from cryptic_solver import (\n",
    "    StandardSolver,\n",
    "    CrypticSolver,\n",
    "    SandwichSolver,\n",
    "    ThermometerSolver,\n",
    "    KillerCondition,\n",
    "    SudokuSolver,\n",
    "    ComboCondition,\n",
    "    KnightCondition,\n",
    "    RookCondition,\n",
    "    BlockCondition,\n",
    "    ThermometerCondition\n",
    ")"
   ]
  },
  {
   "cell_type": "markdown",
   "metadata": {},
   "source": [
    "## Standard Sudoku Solver\n",
    "### Classic sudoku rules:\n",
    "* Rook condition: two squares a rook move apart cannot have the same number\n",
    "* Block condition: two squares in the same 3x3 block cannot have the same number"
   ]
  },
  {
   "cell_type": "code",
   "execution_count": 2,
   "metadata": {
    "ExecuteTime": {
     "end_time": "2020-11-14T13:56:19.736478Z",
     "start_time": "2020-11-14T13:56:19.583978Z"
    }
   },
   "outputs": [
    {
     "name": "stdout",
     "output_type": "stream",
     "text": [
      "+-----------+-----------+-----------+\n",
      "| 7   5   2 | 8   3   1 | 4   6   9 | \n",
      "|           |           |           |\n",
      "| 9   3   8 | 4   2   6 | 7   5   1 | \n",
      "|           |           |           |\n",
      "| 6   4   1 | 5   7   9 | 3   2   8 | \n",
      "+-----------+-----------+-----------+\n",
      "| 8   9   5 | 2   6   7 | 1   4   3 | \n",
      "|           |           |           |\n",
      "| 1   2   6 | 3   9   4 | 5   8   7 | \n",
      "|           |           |           |\n",
      "| 3   7   4 | 1   8   5 | 2   9   6 | \n",
      "+-----------+-----------+-----------+\n",
      "| 2   8   9 | 7   5   3 | 6   1   4 | \n",
      "|           |           |           |\n",
      "| 4   6   3 | 9   1   2 | 8   7   5 | \n",
      "|           |           |           |\n",
      "| 5   1   7 | 6   4   8 | 9   3   2 | \n",
      "+-----------+-----------+-----------+\n",
      "Wall time: 59.5 ms\n"
     ]
    }
   ],
   "source": [
    "%%time\n",
    "ss = StandardSolver(\n",
    "    np.array(\n",
    "        [\n",
    "            [7, 5, 2, 0, 0, 1, 4, 0, 0],\n",
    "            [0, 3, 0, 0, 0, 6, 0, 0, 1],\n",
    "            [6, 4, 0, 0, 7, 0, 3, 2, 0],\n",
    "            [8, 0, 5, 2, 6, 0, 0, 0, 0],\n",
    "            [0, 0, 0, 3, 0, 4, 0, 0, 0],\n",
    "            [0, 0, 0, 0, 8, 5, 2, 0, 6],\n",
    "            [0, 8, 9, 0, 5, 0, 0, 1, 4],\n",
    "            [4, 0, 0, 9, 0, 0, 0, 7, 0],\n",
    "            [0, 0, 7, 6, 0, 0, 9, 3, 2],\n",
    "        ]\n",
    "    )\n",
    ")\n",
    "ss.solve()"
   ]
  },
  {
   "cell_type": "markdown",
   "metadata": {},
   "source": [
    "### Cryptic Sudoku Solver\n",
    "\n",
    "#### Additional rules:\n",
    "* Knight condition: two squares a knight move apart cannot have the same number\n",
    "* King condition: two squares a king move apart cannot have the same number\n",
    "* Non-consecutive condition: two square orthogonally adjacent cannot have adjacent numbers"
   ]
  },
  {
   "cell_type": "code",
   "execution_count": 3,
   "metadata": {
    "ExecuteTime": {
     "end_time": "2020-11-14T13:56:19.968978Z",
     "start_time": "2020-11-14T13:56:19.738479Z"
    }
   },
   "outputs": [
    {
     "name": "stdout",
     "output_type": "stream",
     "text": [
      "+-----------+-----------+-----------+\n",
      "| 4   8   3 | 7   2   6 | 1   5   9 | \n",
      "|           |           |           |\n",
      "| 7   2   6 | 1   5   9 | 4   8   3 | \n",
      "|           |           |           |\n",
      "| 1   5   9 | 4   8   3 | 7   2   6 | \n",
      "+-----------+-----------+-----------+\n",
      "| 8   3   7 | 2   6   1 | 5   9   4 | \n",
      "|           |           |           |\n",
      "| 2   6   1 | 5   9   4 | 8   3   7 | \n",
      "|           |           |           |\n",
      "| 5   9   4 | 8   3   7 | 2   6   1 | \n",
      "+-----------+-----------+-----------+\n",
      "| 3   7   2 | 6   1   5 | 9   4   8 | \n",
      "|           |           |           |\n",
      "| 6   1   5 | 9   4   8 | 3   7   2 | \n",
      "|           |           |           |\n",
      "| 9   4   8 | 3   7   2 | 6   1   5 | \n",
      "+-----------+-----------+-----------+\n",
      "Wall time: 156 ms\n"
     ]
    }
   ],
   "source": [
    "%%time\n",
    "cs = CrypticSolver(\n",
    "    np.array(\n",
    "        [\n",
    "            [0, 0, 0, 0, 0, 0, 0, 0, 0],\n",
    "            [0, 0, 0, 0, 0, 0, 0, 0, 0],\n",
    "            [0, 0, 0, 0, 0, 0, 0, 0, 0],\n",
    "            [0, 0, 0, 0, 0, 0, 0, 0, 0],\n",
    "            [0, 0, 1, 0, 0, 0, 0, 0, 0],\n",
    "            [0, 0, 0, 0, 0, 0, 2, 0, 0],\n",
    "            [0, 0, 0, 0, 0, 0, 0, 0, 0],\n",
    "            [0, 0, 0, 0, 0, 0, 0, 0, 0],\n",
    "            [0, 0, 0, 0, 0, 0, 0, 0, 0],\n",
    "        ]\n",
    "    )\n",
    ")\n",
    "cs.solve()"
   ]
  },
  {
   "cell_type": "markdown",
   "metadata": {},
   "source": [
    "### Thermometer Sudoku Solver\n",
    "#### Additional rules:\n",
    "* Thermometer condition: the numbers along each thermometer starting from the bulb must be increasing"
   ]
  },
  {
   "cell_type": "code",
   "execution_count": 4,
   "metadata": {
    "ExecuteTime": {
     "end_time": "2020-11-14T13:56:39.219977Z",
     "start_time": "2020-11-14T13:56:19.971479Z"
    },
    "code_folding": [],
    "scrolled": true
   },
   "outputs": [
    {
     "name": "stdout",
     "output_type": "stream",
     "text": [
      "+-----------+-----------+-----------+\n",
      "| 1   2   3 | 8   6   9 | 5   7   4 | \n",
      "|           |           |           |\n",
      "| 8   4   9 | 5   7   1 | 3   6   2 | \n",
      "|           |           |           |\n",
      "| 6   5   7 | 2   3   4 | 8   9   1 | \n",
      "+-----------+-----------+-----------+\n",
      "| 9   8   4 | 6   2   5 | 7   1   3 | \n",
      "|           |           |           |\n",
      "| 2   3   6 | 1   9   7 | 4   5   8 | \n",
      "|           |           |           |\n",
      "| 5   7   1 | 3   4   8 | 6   2   9 | \n",
      "+-----------+-----------+-----------+\n",
      "| 3   1   2 | 4   5   6 | 9   8   7 | \n",
      "|           |           |           |\n",
      "| 4   9   5 | 7   8   2 | 1   3   6 | \n",
      "|           |           |           |\n",
      "| 7   6   8 | 9   1   3 | 2   4   5 | \n",
      "+-----------+-----------+-----------+\n",
      "Wall time: 19.2 s\n"
     ]
    }
   ],
   "source": [
    "%%time\n",
    "ts = ThermometerSolver(\n",
    "    np.array(\n",
    "        [\n",
    "            [0, 0, 0, 0, 0, 0, 5, 0, 4],\n",
    "            [0, 0, 0, 0, 0, 0, 0, 6, 0],\n",
    "            [0, 0, 0, 0, 0, 0, 0, 0, 0],\n",
    "            [0, 0, 0, 0, 2, 0, 0, 0, 0],\n",
    "            [0, 0, 0, 0, 0, 0, 0, 0, 0],\n",
    "            [0, 0, 1, 0, 0, 0, 0, 0, 0],\n",
    "            [0, 0, 0, 0, 0, 0, 0, 0, 0],\n",
    "            [0, 9, 0, 0, 0, 0, 0, 3, 0],\n",
    "            [7, 0, 8, 0, 0, 0, 0, 0, 0],\n",
    "        ]\n",
    "    ),\n",
    "    paths=[\n",
    "        [(0, 0), (0, 1), (1, 1), (2, 1), (3, 1)],\n",
    "        [(2, 3), (2, 4), (2, 5), (3, 5), (4, 5), (4, 4)],\n",
    "        [(4, 0), (4, 1), (4, 2)],\n",
    "        [(4, 3), (5, 3), (6, 3), (6, 4), (6, 5)],\n",
    "        [(8, 6), (8, 7), (8, 8), (7, 8), (6, 8), (6, 7), (6, 6)],\n",
    "        [(4, 6), (4, 7), (4, 8), (5, 8)],\n",
    "    ],\n",
    ")\n",
    "ts.solve()"
   ]
  },
  {
   "cell_type": "code",
   "execution_count": 5,
   "metadata": {
    "ExecuteTime": {
     "end_time": "2020-11-14T13:56:52.689479Z",
     "start_time": "2020-11-14T13:56:39.221981Z"
    }
   },
   "outputs": [
    {
     "name": "stdout",
     "output_type": "stream",
     "text": [
      "+-----------+-----------+-----------+\n",
      "| 1   5   4 | 2   7   3 | 6   9   8 | \n",
      "|           |           |           |\n",
      "| 3   7   9 | 8   1   6 | 5   4   2 | \n",
      "|           |           |           |\n",
      "| 6   2   8 | 5   9   4 | 7   1   3 | \n",
      "+-----------+-----------+-----------+\n",
      "| 2   9   5 | 7   4   1 | 3   8   6 | \n",
      "|           |           |           |\n",
      "| 7   4   6 | 9   3   8 | 2   5   1 | \n",
      "|           |           |           |\n",
      "| 8   3   1 | 6   5   2 | 4   7   9 | \n",
      "+-----------+-----------+-----------+\n",
      "| 5   6   7 | 3   8   9 | 1   2   4 | \n",
      "|           |           |           |\n",
      "| 4   8   3 | 1   2   5 | 9   6   7 | \n",
      "|           |           |           |\n",
      "| 9   1   2 | 4   6   7 | 8   3   5 | \n",
      "+-----------+-----------+-----------+\n",
      "Wall time: 13.4 s\n"
     ]
    }
   ],
   "source": [
    "%%time\n",
    "ts = ThermometerSolver(\n",
    "    np.array(\n",
    "        [\n",
    "            [1, 0, 0, 0, 7, 0, 0, 0, 8],\n",
    "            [0, 0, 9, 0, 0, 0, 5, 0, 0],\n",
    "            [0, 2, 0, 0, 0, 0, 0, 1, 0],\n",
    "            [0, 0, 0, 0, 0, 0, 0, 0, 0],\n",
    "            [7, 0, 0, 0, 0, 0, 0, 0, 1],\n",
    "            [0, 0, 0, 0, 0, 0, 0, 0, 0],\n",
    "            [0, 0, 0, 3, 8, 9, 0, 0, 0],\n",
    "            [4, 0, 0, 0, 2, 0, 0, 0, 7],\n",
    "            [0, 1, 0, 0, 0, 0, 0, 3, 0],\n",
    "        ]\n",
    "    ),\n",
    "    paths=[\n",
    "        [(2, 0), (1, 1), (2, 2), (3, 1)],\n",
    "        [(1, 4), (0, 3), (0, 2), (0, 1)],\n",
    "        [(1, 4), (0, 5), (0, 6), (0, 7)],\n",
    "        [(4, 4), (3, 4), (2, 4)],\n",
    "        [(2, 8), (1, 7), (2, 6), (3, 7)],\n",
    "        [(6, 6), (5, 5), (5, 4), (5, 3), (6, 2)],\n",
    "        [(7, 2), (8, 3), (8, 4), (8, 5), (7, 6)],\n",
    "    ],\n",
    ")\n",
    "ts.solve()"
   ]
  },
  {
   "cell_type": "markdown",
   "metadata": {},
   "source": [
    "### Sandwich Sudoku Solver\n",
    "#### Additional rules:\n",
    "* Sandwich condition: For each row or column where a sum is provided, that sum must be equal to the sum of the numbers in that row or column between the 1 and 9 in that row or column"
   ]
  },
  {
   "cell_type": "code",
   "execution_count": 6,
   "metadata": {
    "ExecuteTime": {
     "end_time": "2020-11-14T13:56:54.239979Z",
     "start_time": "2020-11-14T13:56:52.692979Z"
    },
    "scrolled": false
   },
   "outputs": [
    {
     "name": "stdout",
     "output_type": "stream",
     "text": [
      "+-----------+-----------+-----------+\n",
      "| 6   1   2 | 9   3   8 | 4   7   5 | 2\n",
      "|           |           |           |\n",
      "| 7   8   3 | 4   5   1 | 2   6   9 | 8\n",
      "|           |           |           |\n",
      "| 4   5   9 | 2   6   7 | 8   3   1 | 26\n",
      "+-----------+-----------+-----------+\n",
      "| 1   3   8 | 6   7   5 | 9   4   2 | 29\n",
      "|           |           |           |\n",
      "| 2   7   4 | 3   1   9 | 5   8   6 | 0\n",
      "|           |           |           |\n",
      "| 5   9   6 | 8   4   2 | 3   1   7 | 23\n",
      "+-----------+-----------+-----------+\n",
      "| 3   4   5 | 1   2   6 | 7   9   8 | 15\n",
      "|           |           |           |\n",
      "| 9   2   1 | 7   8   3 | 6   5   4 | 2\n",
      "|           |           |           |\n",
      "| 8   6   7 | 5   9   4 | 1   2   3 | 4\n",
      "+-----------+-----------+-----------+\n",
      "  10  23  23  23  14  12  21  0   0  \n",
      "Wall time: 1.43 s\n"
     ]
    }
   ],
   "source": [
    "%%time\n",
    "sws = SandwichSolver(\n",
    "    np.array(\n",
    "        [\n",
    "            [0, 0, 0, 0, 0, 0, 0, 0, 0],\n",
    "            [0, 0, 0, 0, 0, 0, 0, 0, 0],\n",
    "            [0, 0, 9, 0, 0, 0, 0, 0, 0],\n",
    "            [0, 0, 0, 6, 0, 0, 0, 0, 0],\n",
    "            [0, 0, 0, 0, 1, 0, 0, 0, 0],\n",
    "            [0, 0, 0, 0, 0, 2, 0, 0, 0],\n",
    "            [0, 0, 0, 0, 0, 0, 7, 0, 0],\n",
    "            [0, 0, 0, 0, 0, 0, 0, 0, 0],\n",
    "            [0, 0, 0, 0, 0, 0, 0, 0, 0],\n",
    "        ]\n",
    "    ),\n",
    "    row_sums=np.array([2, 8, 26, 29, 0, 23, 15, 2, 4]),\n",
    "    col_sums=np.array([10, 23, 23, 23, 14, 12, 21, 0, 0]),\n",
    ")\n",
    "sws.solve()"
   ]
  },
  {
   "cell_type": "code",
   "execution_count": 7,
   "metadata": {
    "ExecuteTime": {
     "end_time": "2020-11-14T13:57:21.782979Z",
     "start_time": "2020-11-14T13:56:54.243480Z"
    },
    "scrolled": false
   },
   "outputs": [
    {
     "name": "stdout",
     "output_type": "stream",
     "text": [
      "+-----------+-----------+-----------+\n",
      "| 6   7   2 | 9   4   8 | 1   3   5 | 12\n",
      "|           |           |           |\n",
      "| 5   4   9 | 1   3   7 | 2   8   6 | 0\n",
      "|           |           |           |\n",
      "| 3   8   1 | 5   6   2 | 7   4   9 | 24\n",
      "+-----------+-----------+-----------+\n",
      "| 8   1   5 | 2   7   3 | 6   9   4 | 23\n",
      "|           |           |           |\n",
      "| 2   9   4 | 8   1   6 | 5   7   3 | 12\n",
      "|           |           |           |\n",
      "| 7   6   3 | 4   9   5 | 8   2   1 | 15\n",
      "+-----------+-----------+-----------+\n",
      "| 4   2   6 | 7   5   9 | 3   1   8 | 3\n",
      "|           |           |           |\n",
      "| 9   5   7 | 3   8   1 | 4   6   2 | 23\n",
      "|           |           |           |\n",
      "| 1   3   8 | 6   2   4 | 9   5   7 | 23\n",
      "+-----------+-----------+-----------+\n",
      "      0   0               35  9      \n",
      "Wall time: 27.4 s\n"
     ]
    }
   ],
   "source": [
    "%%time\n",
    "sws = SandwichSolver(\n",
    "    np.array(\n",
    "        [\n",
    "            [0, 0, 0, 0, 0, 0, 0, 0, 0],\n",
    "            [0, 0, 0, 0, 0, 0, 0, 0, 0],\n",
    "            [0, 0, 0, 0, 0, 2, 0, 0, 0],\n",
    "            [0, 0, 0, 0, 0, 0, 0, 0, 0],\n",
    "            [0, 0, 0, 0, 1, 0, 0, 0, 0],\n",
    "            [0, 0, 0, 0, 0, 0, 0, 0, 0],\n",
    "            [0, 0, 0, 7, 0, 0, 0, 0, 0],\n",
    "            [0, 0, 0, 0, 0, 0, 0, 0, 0],\n",
    "            [0, 0, 0, 0, 0, 0, 0, 0, 0],\n",
    "        ]\n",
    "    ),\n",
    "    row_sums=np.array([12, 0, 24, 23, 12, 15, 3, 23, 23]),\n",
    "    col_sums=np.array([None, 0, 0, None, None, None, 35, 9, None]),\n",
    ")\n",
    "sws.solve()"
   ]
  },
  {
   "cell_type": "code",
   "execution_count": 8,
   "metadata": {
    "ExecuteTime": {
     "end_time": "2020-11-14T13:57:52.286978Z",
     "start_time": "2020-11-14T13:57:21.785479Z"
    },
    "scrolled": false
   },
   "outputs": [
    {
     "name": "stdout",
     "output_type": "stream",
     "text": [
      "+-----------+-----------+-----------+\n",
      "| 3   8   1 | 5   9   7 | 2   6   4 | 5\n",
      "|           |           |           |\n",
      "| 6   2   4 | 8   3   1 | 7   5   9 | 12\n",
      "|           |           |           |\n",
      "| 9   5   7 | 2   6   4 | 1   8   3 | \n",
      "+-----------+-----------+-----------+\n",
      "| 7   3   5 | 9   4   2 | 6   1   8 | \n",
      "|           |           |           |\n",
      "| 1   6   8 | 3   7   5 | 9   4   2 | 29\n",
      "|           |           |           |\n",
      "| 4   9   2 | 6   1   8 | 3   7   5 | \n",
      "+-----------+-----------+-----------+\n",
      "| 2   4   6 | 1   8   3 | 5   9   7 | \n",
      "|           |           |           |\n",
      "| 5   7   9 | 4   2   6 | 8   3   1 | 23\n",
      "|           |           |           |\n",
      "| 8   1   3 | 7   5   9 | 4   2   6 | 15\n",
      "+-----------+-----------+-----------+\n",
      "  7   11                      11  25 \n",
      "Wall time: 30.4 s\n"
     ]
    }
   ],
   "source": [
    "%%time\n",
    "sws = SandwichSolver(\n",
    "    np.array(\n",
    "        [\n",
    "            [0, 0, 0, 0, 0, 0, 0, 0, 0],\n",
    "            [0, 0, 0, 0, 0, 0, 0, 0, 0],\n",
    "            [0, 0, 7, 2, 6, 0, 1, 0, 0],\n",
    "            [0, 0, 0, 0, 0, 0, 6, 0, 0],\n",
    "            [0, 0, 8, 0, 0, 0, 9, 0, 0],\n",
    "            [0, 0, 2, 0, 0, 0, 0, 0, 0],\n",
    "            [0, 0, 6, 0, 8, 3, 5, 0, 0],\n",
    "            [0, 0, 0, 0, 0, 0, 0, 0, 0],\n",
    "            [0, 0, 0, 0, 0, 0, 0, 0, 0],\n",
    "        ]\n",
    "    ),\n",
    "    row_sums=np.array([5, 12, None, None, 29, None, None, 23, 15]),\n",
    "    col_sums=np.array([7, 11, None, None, None, None, None, 11, 25]),\n",
    ")\n",
    "sws.solve()"
   ]
  },
  {
   "cell_type": "markdown",
   "metadata": {},
   "source": [
    "#### Custom Puzzles\n",
    "Sudokus using multiple types of constraints can also be solved. We use initial_search to check squares in a specified order. Once specified squares are filled, we use the basic solver (basic=True) to quickly try to solve the rest of the puzzle"
   ]
  },
  {
   "cell_type": "code",
   "execution_count": 9,
   "metadata": {
    "ExecuteTime": {
     "end_time": "2020-11-14T14:03:19.009980Z",
     "start_time": "2020-11-14T13:57:52.288978Z"
    }
   },
   "outputs": [
    {
     "name": "stdout",
     "output_type": "stream",
     "text": [
      "+-----------+-----------+-----------+\n",
      "| 1   3   5 | 9   4   2 | 7   8   6 | \n",
      "|           |           |           |\n",
      "| 9   7   8 | 6   1   5 | 3   4   2 | \n",
      "|           |           |           |\n",
      "| 6   4   2 | 3   7   8 | 9   1   5 | \n",
      "+-----------+-----------+-----------+\n",
      "| 4   6   3 | 5   8   9 | 2   7   1 | \n",
      "|           |           |           |\n",
      "| 2   8   7 | 4   6   1 | 5   3   9 | \n",
      "|           |           |           |\n",
      "| 5   1   9 | 2   3   7 | 4   6   8 | \n",
      "+-----------+-----------+-----------+\n",
      "| 3   9   1 | 8   5   4 | 6   2   7 | \n",
      "|           |           |           |\n",
      "| 7   2   4 | 1   9   6 | 8   5   3 | \n",
      "|           |           |           |\n",
      "| 8   5   6 | 7   2   3 | 1   9   4 | \n",
      "+-----------+-----------+-----------+\n"
     ]
    }
   ],
   "source": [
    "#%%time\n",
    "boxes = [\n",
    "    [(3, 0), (3, 1)],\n",
    "    [(4, 0), (4, 1)],\n",
    "    [(0, 0), (1, 0)],\n",
    "    [(0, 1), (1, 1)],\n",
    "    [(3, 5), (4, 5)],\n",
    "    [(3, 7), (4, 7)],\n",
    "    [(3, 8), (4, 8)],\n",
    "    [(5, 4), (5, 5)],\n",
    "    [(7, 3), (7, 4)],\n",
    "    [(7, 2), (8, 2)],\n",
    "    [(6, 8), (7, 8)],\n",
    "]\n",
    "paths = [\n",
    "    [(0, 0), (1, 0)],\n",
    "    [(0, 1), (1, 1)],\n",
    "    [(3, 0), (3, 1)],\n",
    "    [(4, 0), (4, 1)],\n",
    "]\n",
    "ts = ThermometerSolver(\n",
    "    np.array(\n",
    "        [\n",
    "            [0, 0, 0, 0, 0, 0, 0, 0, 0],\n",
    "            [0, 0, 0, 0, 0, 0, 0, 0, 0],\n",
    "            [0, 0, 0, 0, 0, 0, 0, 0, 0],\n",
    "            [0, 0, 0, 0, 0, 0, 0, 0, 0],\n",
    "            [0, 0, 0, 0, 0, 0, 0, 0, 0],\n",
    "            [0, 0, 0, 0, 0, 0, 0, 0, 0],\n",
    "            [0, 0, 0, 0, 0, 0, 0, 0, 0],\n",
    "            [0, 0, 0, 0, 0, 0, 0, 0, 0],\n",
    "            [0, 0, 0, 0, 0, 0, 0, 0, 0],\n",
    "        ]\n",
    "    ),\n",
    "    paths=paths,\n",
    "    condition=ComboCondition(\n",
    "        KillerCondition(boxes=boxes, sums=11 * [10],), KnightCondition,\n",
    "    ),\n",
    ")\n",
    "search_path = sum(boxes, []) + sum(paths, [])\n",
    "search_path_dedup = []\n",
    "for cell in search_path:\n",
    "    if cell not in search_path_dedup:\n",
    "        search_path_dedup.append(cell)\n",
    "search_path_dedup += [\n",
    "    (3, 2),\n",
    "    (3, 3),\n",
    "    (3, 4),\n",
    "]\n",
    "solution = ts.initial_search(\n",
    "    path=search_path_dedup,\n",
    "    final_condition=ComboCondition(\n",
    "        RookCondition,\n",
    "        BlockCondition,\n",
    "        KnightCondition,\n",
    "#         ThermometerCondition(paths=[[(1, 4), (0, 5), (1, 6), (1, 7)]]),\n",
    "    ),\n",
    ")\n",
    "# transform solution so the last thermometer works\n",
    "nums = [solution[x] for x in [(1, 4), (0, 5), (1, 6), (1, 7)]]\n",
    "nums += [5] + [10 - x for x in reversed(nums)]\n",
    "num_map = dict([(nums[x], x + 1) for x in range(9)])\n",
    "ts.grid = np.array([num_map[x] for x in solution.flatten()]).reshape(9, 9)\n",
    "ts.print(ts.grid, override=True)"
   ]
  }
 ],
 "metadata": {
  "kernelspec": {
   "display_name": "Python 3",
   "language": "python",
   "name": "python3"
  },
  "language_info": {
   "codemirror_mode": {
    "name": "ipython",
    "version": 3
   },
   "file_extension": ".py",
   "mimetype": "text/x-python",
   "name": "python",
   "nbconvert_exporter": "python",
   "pygments_lexer": "ipython3",
   "version": "3.7.3"
  }
 },
 "nbformat": 4,
 "nbformat_minor": 2
}
